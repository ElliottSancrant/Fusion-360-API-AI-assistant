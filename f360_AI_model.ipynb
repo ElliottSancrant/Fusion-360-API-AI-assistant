{
 "cells": [
  {
   "cell_type": "code",
   "execution_count": 1,
   "metadata": {},
   "outputs": [],
   "source": [
    "import pandas as pd\n",
    "import numpy as np\n",
    "from sklearn.model_selection import train_test_split\n",
    "from sklearn.feature_extraction.text import TfidfVectorizer\n",
    "from sklearn.pipeline import Pipeline\n",
    "from sklearn.linear_model import LogisticRegression\n",
    "from sklearn.metrics import classification_report, accuracy_score\n",
    "import joblib\n"
   ]
  },
  {
   "cell_type": "code",
   "execution_count": 3,
   "metadata": {},
   "outputs": [
    {
     "data": {
      "text/html": [
       "<div>\n",
       "<style scoped>\n",
       "    .dataframe tbody tr th:only-of-type {\n",
       "        vertical-align: middle;\n",
       "    }\n",
       "\n",
       "    .dataframe tbody tr th {\n",
       "        vertical-align: top;\n",
       "    }\n",
       "\n",
       "    .dataframe thead th {\n",
       "        text-align: right;\n",
       "    }\n",
       "</style>\n",
       "<table border=\"1\" class=\"dataframe\">\n",
       "  <thead>\n",
       "    <tr style=\"text-align: right;\">\n",
       "      <th></th>\n",
       "      <th>Name</th>\n",
       "      <th>Type</th>\n",
       "      <th>Parent Object</th>\n",
       "      <th>Description</th>\n",
       "      <th>IsParent</th>\n",
       "      <th>Associated Parent</th>\n",
       "    </tr>\n",
       "  </thead>\n",
       "  <tbody>\n",
       "    <tr>\n",
       "      <th>0</th>\n",
       "      <td>AngleExtentDefinition</td>\n",
       "      <td>Object</td>\n",
       "      <td>NaN</td>\n",
       "      <td>NaN</td>\n",
       "      <td>True</td>\n",
       "      <td>AngleExtentDefinition</td>\n",
       "    </tr>\n",
       "    <tr>\n",
       "      <th>1</th>\n",
       "      <td>AngleExtentDefinition.angle</td>\n",
       "      <td>Property</td>\n",
       "      <td>AngleExtentDefinition</td>\n",
       "      <td>gets the modelparameter that defines the angle...</td>\n",
       "      <td>False</td>\n",
       "      <td>AngleExtentDefinition</td>\n",
       "    </tr>\n",
       "    <tr>\n",
       "      <th>2</th>\n",
       "      <td>AngleExtentDefinition.classType</td>\n",
       "      <td>Method</td>\n",
       "      <td>AngleExtentDefinition</td>\n",
       "      <td>static function that all classes support that ...</td>\n",
       "      <td>False</td>\n",
       "      <td>AngleExtentDefinition</td>\n",
       "    </tr>\n",
       "    <tr>\n",
       "      <th>3</th>\n",
       "      <td>AngleExtentDefinition.isSymmetric</td>\n",
       "      <td>Property</td>\n",
       "      <td>AngleExtentDefinition</td>\n",
       "      <td>gets and sets if the angle extent is in one di...</td>\n",
       "      <td>False</td>\n",
       "      <td>AngleExtentDefinition</td>\n",
       "    </tr>\n",
       "    <tr>\n",
       "      <th>4</th>\n",
       "      <td>AngleExtentDefinition.isValid</td>\n",
       "      <td>Property</td>\n",
       "      <td>AngleExtentDefinition</td>\n",
       "      <td>indicates if this object is still valid ie has...</td>\n",
       "      <td>False</td>\n",
       "      <td>AngleExtentDefinition</td>\n",
       "    </tr>\n",
       "    <tr>\n",
       "      <th>...</th>\n",
       "      <td>...</td>\n",
       "      <td>...</td>\n",
       "      <td>...</td>\n",
       "      <td>...</td>\n",
       "      <td>...</td>\n",
       "      <td>...</td>\n",
       "    </tr>\n",
       "    <tr>\n",
       "      <th>7913</th>\n",
       "      <td>Workspace.resourceFolder</td>\n",
       "      <td>Property</td>\n",
       "      <td>Workspace</td>\n",
       "      <td>gets or sets the resource folderdefined in and...</td>\n",
       "      <td>False</td>\n",
       "      <td>Workspaces</td>\n",
       "    </tr>\n",
       "    <tr>\n",
       "      <th>7914</th>\n",
       "      <td>Workspace.toolbarPanels</td>\n",
       "      <td>Property</td>\n",
       "      <td>Workspace</td>\n",
       "      <td>gets the collection containing the panels asso...</td>\n",
       "      <td>False</td>\n",
       "      <td>Workspaces</td>\n",
       "    </tr>\n",
       "    <tr>\n",
       "      <th>7915</th>\n",
       "      <td>Workspace.toolClipFilename</td>\n",
       "      <td>Property</td>\n",
       "      <td>Workspace</td>\n",
       "      <td>gets or sets the full filename of the image fi...</td>\n",
       "      <td>False</td>\n",
       "      <td>Workspaces</td>\n",
       "    </tr>\n",
       "    <tr>\n",
       "      <th>7916</th>\n",
       "      <td>Workspace.tooltip</td>\n",
       "      <td>Property</td>\n",
       "      <td>Workspace</td>\n",
       "      <td>gets or sets the tooltip text displayed for th...</td>\n",
       "      <td>False</td>\n",
       "      <td>Workspaces</td>\n",
       "    </tr>\n",
       "    <tr>\n",
       "      <th>7917</th>\n",
       "      <td>Workspace.tooltipDescription</td>\n",
       "      <td>Property</td>\n",
       "      <td>Workspace</td>\n",
       "      <td>gets or sets the tooltip description displayed...</td>\n",
       "      <td>False</td>\n",
       "      <td>Workspaces</td>\n",
       "    </tr>\n",
       "  </tbody>\n",
       "</table>\n",
       "<p>7918 rows × 6 columns</p>\n",
       "</div>"
      ],
      "text/plain": [
       "                                   Name      Type          Parent Object  \\\n",
       "0                 AngleExtentDefinition    Object                    NaN   \n",
       "1           AngleExtentDefinition.angle  Property  AngleExtentDefinition   \n",
       "2       AngleExtentDefinition.classType    Method  AngleExtentDefinition   \n",
       "3     AngleExtentDefinition.isSymmetric  Property  AngleExtentDefinition   \n",
       "4         AngleExtentDefinition.isValid  Property  AngleExtentDefinition   \n",
       "...                                 ...       ...                    ...   \n",
       "7913           Workspace.resourceFolder  Property              Workspace   \n",
       "7914            Workspace.toolbarPanels  Property              Workspace   \n",
       "7915         Workspace.toolClipFilename  Property              Workspace   \n",
       "7916                  Workspace.tooltip  Property              Workspace   \n",
       "7917       Workspace.tooltipDescription  Property              Workspace   \n",
       "\n",
       "                                            Description  IsParent  \\\n",
       "0                                                   NaN      True   \n",
       "1     gets the modelparameter that defines the angle...     False   \n",
       "2     static function that all classes support that ...     False   \n",
       "3     gets and sets if the angle extent is in one di...     False   \n",
       "4     indicates if this object is still valid ie has...     False   \n",
       "...                                                 ...       ...   \n",
       "7913  gets or sets the resource folderdefined in and...     False   \n",
       "7914  gets the collection containing the panels asso...     False   \n",
       "7915  gets or sets the full filename of the image fi...     False   \n",
       "7916  gets or sets the tooltip text displayed for th...     False   \n",
       "7917  gets or sets the tooltip description displayed...     False   \n",
       "\n",
       "          Associated Parent  \n",
       "0     AngleExtentDefinition  \n",
       "1     AngleExtentDefinition  \n",
       "2     AngleExtentDefinition  \n",
       "3     AngleExtentDefinition  \n",
       "4     AngleExtentDefinition  \n",
       "...                     ...  \n",
       "7913             Workspaces  \n",
       "7914             Workspaces  \n",
       "7915             Workspaces  \n",
       "7916             Workspaces  \n",
       "7917             Workspaces  \n",
       "\n",
       "[7918 rows x 6 columns]"
      ]
     },
     "execution_count": 3,
     "metadata": {},
     "output_type": "execute_result"
    }
   ],
   "source": [
    "df = pd.read_csv(\"/Users/ellio/OneDrive/Bootcamp_AI/personal/Fusion-ai-tool/scraping-script/fusion_360_cleaned_final.csv\")\n",
    "df"
   ]
  },
  {
   "cell_type": "code",
   "execution_count": 6,
   "metadata": {},
   "outputs": [],
   "source": [
    "df['Description'] = df['Description'].astype(str)\n",
    "y = df['Type']  # Assuming 'Type' is the target column\n",
    "\n",
    "# Split the data into training and testing sets\n",
    "X_train, X_test, y_train, y_test = train_test_split(X, y, test_size=0.2, random_state=42)"
   ]
  },
  {
   "cell_type": "code",
   "execution_count": 8,
   "metadata": {},
   "outputs": [
    {
     "name": "stdout",
     "output_type": "stream",
     "text": [
      "4252    returns the collection containing the modelpar...\n",
      "4428    method that creates a new component and an occ...\n",
      "7372    gets the number of toolbar panels in the colle...\n",
      "1410    creates or returns a proxy for the native obje...\n",
      "7894    returns a string indicating the type of the ob...\n",
      "2748    creates an satexportoptions object thats used ...\n",
      "889     gets and sets the collection of edges that wil...\n",
      "7416    indicates if this object is still valid ie has...\n",
      "7032    gets and sets whether a grid is displayed for ...\n",
      "4446    the component this occurrence referencesdefine...\n",
      "Name: Description, dtype: object\n"
     ]
    }
   ],
   "source": [
    "# Print a sample of X_train to inspect the data\n",
    "print(X_train.head(10))\n"
   ]
  },
  {
   "cell_type": "code",
   "execution_count": 9,
   "metadata": {},
   "outputs": [],
   "source": [
    "X_train = X_train.astype(str)\n",
    "X_test = X_test.astype(str)"
   ]
  },
  {
   "cell_type": "code",
   "execution_count": 10,
   "metadata": {},
   "outputs": [],
   "source": [
    "# Remove any NaN or empty entries in X_train and X_test\n",
    "X_train = X_train.dropna()\n",
    "X_test = X_test.dropna()\n",
    "\n",
    "# Check again if there are any completely empty strings\n",
    "X_train = X_train[X_train.apply(lambda x: x.strip() != \"\")]\n",
    "X_test = X_test[X_test.apply(lambda x: x.strip() != \"\")]"
   ]
  },
  {
   "cell_type": "code",
   "execution_count": 11,
   "metadata": {},
   "outputs": [
    {
     "data": {
      "text/html": [
       "<style>#sk-container-id-1 {color: black;background-color: white;}#sk-container-id-1 pre{padding: 0;}#sk-container-id-1 div.sk-toggleable {background-color: white;}#sk-container-id-1 label.sk-toggleable__label {cursor: pointer;display: block;width: 100%;margin-bottom: 0;padding: 0.3em;box-sizing: border-box;text-align: center;}#sk-container-id-1 label.sk-toggleable__label-arrow:before {content: \"▸\";float: left;margin-right: 0.25em;color: #696969;}#sk-container-id-1 label.sk-toggleable__label-arrow:hover:before {color: black;}#sk-container-id-1 div.sk-estimator:hover label.sk-toggleable__label-arrow:before {color: black;}#sk-container-id-1 div.sk-toggleable__content {max-height: 0;max-width: 0;overflow: hidden;text-align: left;background-color: #f0f8ff;}#sk-container-id-1 div.sk-toggleable__content pre {margin: 0.2em;color: black;border-radius: 0.25em;background-color: #f0f8ff;}#sk-container-id-1 input.sk-toggleable__control:checked~div.sk-toggleable__content {max-height: 200px;max-width: 100%;overflow: auto;}#sk-container-id-1 input.sk-toggleable__control:checked~label.sk-toggleable__label-arrow:before {content: \"▾\";}#sk-container-id-1 div.sk-estimator input.sk-toggleable__control:checked~label.sk-toggleable__label {background-color: #d4ebff;}#sk-container-id-1 div.sk-label input.sk-toggleable__control:checked~label.sk-toggleable__label {background-color: #d4ebff;}#sk-container-id-1 input.sk-hidden--visually {border: 0;clip: rect(1px 1px 1px 1px);clip: rect(1px, 1px, 1px, 1px);height: 1px;margin: -1px;overflow: hidden;padding: 0;position: absolute;width: 1px;}#sk-container-id-1 div.sk-estimator {font-family: monospace;background-color: #f0f8ff;border: 1px dotted black;border-radius: 0.25em;box-sizing: border-box;margin-bottom: 0.5em;}#sk-container-id-1 div.sk-estimator:hover {background-color: #d4ebff;}#sk-container-id-1 div.sk-parallel-item::after {content: \"\";width: 100%;border-bottom: 1px solid gray;flex-grow: 1;}#sk-container-id-1 div.sk-label:hover label.sk-toggleable__label {background-color: #d4ebff;}#sk-container-id-1 div.sk-serial::before {content: \"\";position: absolute;border-left: 1px solid gray;box-sizing: border-box;top: 0;bottom: 0;left: 50%;z-index: 0;}#sk-container-id-1 div.sk-serial {display: flex;flex-direction: column;align-items: center;background-color: white;padding-right: 0.2em;padding-left: 0.2em;position: relative;}#sk-container-id-1 div.sk-item {position: relative;z-index: 1;}#sk-container-id-1 div.sk-parallel {display: flex;align-items: stretch;justify-content: center;background-color: white;position: relative;}#sk-container-id-1 div.sk-item::before, #sk-container-id-1 div.sk-parallel-item::before {content: \"\";position: absolute;border-left: 1px solid gray;box-sizing: border-box;top: 0;bottom: 0;left: 50%;z-index: -1;}#sk-container-id-1 div.sk-parallel-item {display: flex;flex-direction: column;z-index: 1;position: relative;background-color: white;}#sk-container-id-1 div.sk-parallel-item:first-child::after {align-self: flex-end;width: 50%;}#sk-container-id-1 div.sk-parallel-item:last-child::after {align-self: flex-start;width: 50%;}#sk-container-id-1 div.sk-parallel-item:only-child::after {width: 0;}#sk-container-id-1 div.sk-dashed-wrapped {border: 1px dashed gray;margin: 0 0.4em 0.5em 0.4em;box-sizing: border-box;padding-bottom: 0.4em;background-color: white;}#sk-container-id-1 div.sk-label label {font-family: monospace;font-weight: bold;display: inline-block;line-height: 1.2em;}#sk-container-id-1 div.sk-label-container {text-align: center;}#sk-container-id-1 div.sk-container {/* jupyter's `normalize.less` sets `[hidden] { display: none; }` but bootstrap.min.css set `[hidden] { display: none !important; }` so we also need the `!important` here to be able to override the default hidden behavior on the sphinx rendered scikit-learn.org. See: https://github.com/scikit-learn/scikit-learn/issues/21755 */display: inline-block !important;position: relative;}#sk-container-id-1 div.sk-text-repr-fallback {display: none;}</style><div id=\"sk-container-id-1\" class=\"sk-top-container\"><div class=\"sk-text-repr-fallback\"><pre>Pipeline(steps=[(&#x27;tfidf&#x27;, TfidfVectorizer(max_features=5000)),\n",
       "                (&#x27;classifier&#x27;, LogisticRegression(max_iter=1000))])</pre><b>In a Jupyter environment, please rerun this cell to show the HTML representation or trust the notebook. <br />On GitHub, the HTML representation is unable to render, please try loading this page with nbviewer.org.</b></div><div class=\"sk-container\" hidden><div class=\"sk-item sk-dashed-wrapped\"><div class=\"sk-label-container\"><div class=\"sk-label sk-toggleable\"><input class=\"sk-toggleable__control sk-hidden--visually\" id=\"sk-estimator-id-1\" type=\"checkbox\" ><label for=\"sk-estimator-id-1\" class=\"sk-toggleable__label sk-toggleable__label-arrow\">Pipeline</label><div class=\"sk-toggleable__content\"><pre>Pipeline(steps=[(&#x27;tfidf&#x27;, TfidfVectorizer(max_features=5000)),\n",
       "                (&#x27;classifier&#x27;, LogisticRegression(max_iter=1000))])</pre></div></div></div><div class=\"sk-serial\"><div class=\"sk-item\"><div class=\"sk-estimator sk-toggleable\"><input class=\"sk-toggleable__control sk-hidden--visually\" id=\"sk-estimator-id-2\" type=\"checkbox\" ><label for=\"sk-estimator-id-2\" class=\"sk-toggleable__label sk-toggleable__label-arrow\">TfidfVectorizer</label><div class=\"sk-toggleable__content\"><pre>TfidfVectorizer(max_features=5000)</pre></div></div></div><div class=\"sk-item\"><div class=\"sk-estimator sk-toggleable\"><input class=\"sk-toggleable__control sk-hidden--visually\" id=\"sk-estimator-id-3\" type=\"checkbox\" ><label for=\"sk-estimator-id-3\" class=\"sk-toggleable__label sk-toggleable__label-arrow\">LogisticRegression</label><div class=\"sk-toggleable__content\"><pre>LogisticRegression(max_iter=1000)</pre></div></div></div></div></div></div></div>"
      ],
      "text/plain": [
       "Pipeline(steps=[('tfidf', TfidfVectorizer(max_features=5000)),\n",
       "                ('classifier', LogisticRegression(max_iter=1000))])"
      ]
     },
     "execution_count": 11,
     "metadata": {},
     "output_type": "execute_result"
    }
   ],
   "source": [
    "# Build the pipeline\n",
    "model_pipeline = Pipeline([\n",
    "    ('tfidf', TfidfVectorizer(max_features=5000)),\n",
    "    ('classifier', LogisticRegression(max_iter=1000))\n",
    "])\n",
    "\n",
    "model_pipeline.fit(X_train, y_train)"
   ]
  },
  {
   "cell_type": "code",
   "execution_count": 12,
   "metadata": {},
   "outputs": [
    {
     "name": "stdout",
     "output_type": "stream",
     "text": [
      "              precision    recall  f1-score   support\n",
      "\n",
      "  Enumerator       0.00      0.00      0.00        19\n",
      "       Event       1.00      0.64      0.78        11\n",
      "      Method       0.98      0.94      0.96       434\n",
      "      Object       0.87      1.00      0.93       128\n",
      "    Property       0.97      0.99      0.98       992\n",
      "\n",
      "    accuracy                           0.96      1584\n",
      "   macro avg       0.76      0.71      0.73      1584\n",
      "weighted avg       0.95      0.96      0.96      1584\n",
      "\n"
     ]
    },
    {
     "name": "stderr",
     "output_type": "stream",
     "text": [
      "c:\\ProgramData\\anaconda3\\Lib\\site-packages\\sklearn\\metrics\\_classification.py:1344: UndefinedMetricWarning: Precision and F-score are ill-defined and being set to 0.0 in labels with no predicted samples. Use `zero_division` parameter to control this behavior.\n",
      "  _warn_prf(average, modifier, msg_start, len(result))\n",
      "c:\\ProgramData\\anaconda3\\Lib\\site-packages\\sklearn\\metrics\\_classification.py:1344: UndefinedMetricWarning: Precision and F-score are ill-defined and being set to 0.0 in labels with no predicted samples. Use `zero_division` parameter to control this behavior.\n",
      "  _warn_prf(average, modifier, msg_start, len(result))\n",
      "c:\\ProgramData\\anaconda3\\Lib\\site-packages\\sklearn\\metrics\\_classification.py:1344: UndefinedMetricWarning: Precision and F-score are ill-defined and being set to 0.0 in labels with no predicted samples. Use `zero_division` parameter to control this behavior.\n",
      "  _warn_prf(average, modifier, msg_start, len(result))\n"
     ]
    }
   ],
   "source": [
    "# Evaluate the model on the test set\n",
    "y_pred = model_pipeline.predict(X_test)\n",
    "\n",
    "# Print a classification report\n",
    "from sklearn.metrics import classification_report\n",
    "print(classification_report(y_test, y_pred))\n"
   ]
  },
  {
   "cell_type": "code",
   "execution_count": 13,
   "metadata": {},
   "outputs": [
    {
     "name": "stdout",
     "output_type": "stream",
     "text": [
      "Type\n",
      "Property          5013\n",
      "Method            2151\n",
      "Object             605\n",
      "Enumerator          96\n",
      "Event               50\n",
      "~Miscellaneous       1\n",
      "Interface)           1\n",
      "New                  1\n",
      "Name: count, dtype: int64\n"
     ]
    }
   ],
   "source": [
    "print(df['Type'].value_counts())\n"
   ]
  }
 ],
 "metadata": {
  "kernelspec": {
   "display_name": "base",
   "language": "python",
   "name": "python3"
  },
  "language_info": {
   "codemirror_mode": {
    "name": "ipython",
    "version": 3
   },
   "file_extension": ".py",
   "mimetype": "text/x-python",
   "name": "python",
   "nbconvert_exporter": "python",
   "pygments_lexer": "ipython3",
   "version": "3.11.7"
  }
 },
 "nbformat": 4,
 "nbformat_minor": 2
}
